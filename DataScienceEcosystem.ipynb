{
 "cells": [
  {
   "cell_type": "markdown",
   "id": "8ac9ffd4-c8b9-4a23-a237-32ae2b218158",
   "metadata": {},
   "source": [
    "## Data Science Tools and Ecosystem"
   ]
  },
  {
   "cell_type": "markdown",
   "id": "d8d0973b-51e7-4aee-8b08-f138c4dbd2ac",
   "metadata": {},
   "source": [
    "In this notebook, Data Science Tools and Ecosystem are summarized."
   ]
  },
  {
   "cell_type": "markdown",
   "id": "ecf62103-2f04-435f-9404-00b02e28d20c",
   "metadata": {},
   "source": [
    "**Objectives:** \n",
    "       \n",
    "     - Create a Jupyter Notebook\n",
    "\n",
    "     - Insert code and markdown cells\n",
    "\n",
    "     - Share your notebook through GitHub"
   ]
  },
  {
   "cell_type": "markdown",
   "id": "8b465dd1-d4ee-4ec3-81f8-d5c0e0b58b1d",
   "metadata": {},
   "source": [
    "Some of the popular languages that Data Scientists use are:\n",
    "\n",
    "             1. R\n",
    "             2. SQL\n",
    "             3. Julia\n",
    "             4. Scala"
   ]
  },
  {
   "cell_type": "markdown",
   "id": "a1ca26f5-d4a3-4f0a-8776-61a23b741057",
   "metadata": {},
   "source": [
    "Some of the commonly used libraries used by Data Scientists include:\n",
    "\n",
    "              1. NumPy\n",
    "              2. Pandas\n",
    "              3. Matpltlib\n",
    "              4. TensorFlow\n",
    "              5. Scikit-learn"
   ]
  },
  {
   "cell_type": "markdown",
   "id": "b9784f92-636b-49ab-a8ee-f5127a44bdfb",
   "metadata": {},
   "source": [
    "| Data Science Tools |\n",
    "  ------------------\n",
    "| IBM Watson Studio  |\n",
    "| RStudio |\n",
    "| Tableau |"
   ]
  },
  {
   "cell_type": "markdown",
   "id": "f3fe0720-c765-4287-940f-42f10297ba15",
   "metadata": {},
   "source": [
    "### Below are a few examples of evaluating arithmetic expressions in Python"
   ]
  },
  {
   "cell_type": "markdown",
   "id": "3fe2a628-528e-42e6-aa60-2a9527255275",
   "metadata": {},
   "source": [
    "This a simple arithmetic expression to mutiply then add integers"
   ]
  },
  {
   "cell_type": "code",
   "execution_count": 1,
   "id": "fffd9782-d1f9-4c6e-a8ea-e8902db672fc",
   "metadata": {
    "tags": []
   },
   "outputs": [
    {
     "data": {
      "text/plain": [
       "17"
      ]
     },
     "execution_count": 1,
     "metadata": {},
     "output_type": "execute_result"
    }
   ],
   "source": [
    "(3*4)+5"
   ]
  },
  {
   "cell_type": "markdown",
   "id": "7452755f-a02f-4893-b701-6a4315f8f6df",
   "metadata": {},
   "source": [
    "This will convert 200 minutes to hours by diving by 60"
   ]
  },
  {
   "cell_type": "code",
   "execution_count": 2,
   "id": "6a526a07-1bb9-4055-b2fd-2d7be7f2180c",
   "metadata": {
    "tags": []
   },
   "outputs": [
    {
     "name": "stdout",
     "output_type": "stream",
     "text": [
      "200 minutes is equal to 3.33 hours.\n"
     ]
    }
   ],
   "source": [
    "minutes = 200\n",
    "hours = minutes / 60\n",
    "print(f\"{minutes} minutes is equal to {hours:.2f} hours.\")"
   ]
  },
  {
   "cell_type": "markdown",
   "id": "585b5048-c864-4077-b487-e35f6abc70dd",
   "metadata": {},
   "source": [
    "## Author\n",
    "Arsene Senga"
   ]
  },
  {
   "cell_type": "code",
   "execution_count": null,
   "id": "56ac11be-3823-4233-86cb-b61c84617ed5",
   "metadata": {},
   "outputs": [],
   "source": []
  }
 ],
 "metadata": {
  "kernelspec": {
   "display_name": "Python",
   "language": "python",
   "name": "conda-env-python-py"
  },
  "language_info": {
   "codemirror_mode": {
    "name": "ipython",
    "version": 3
   },
   "file_extension": ".py",
   "mimetype": "text/x-python",
   "name": "python",
   "nbconvert_exporter": "python",
   "pygments_lexer": "ipython3",
   "version": "3.7.12"
  }
 },
 "nbformat": 4,
 "nbformat_minor": 5
}
